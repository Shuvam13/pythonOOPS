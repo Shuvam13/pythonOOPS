{
  "nbformat": 4,
  "nbformat_minor": 0,
  "metadata": {
    "colab": {
      "provenance": []
    },
    "kernelspec": {
      "name": "python3",
      "display_name": "Python 3"
    },
    "language_info": {
      "name": "python"
    }
  },
  "cells": [
    {
      "cell_type": "markdown",
      "source": [
        "# PYTHON OOPS\n"
      ],
      "metadata": {
        "id": "yFHaJ_UrbO32"
      }
    },
    {
      "cell_type": "markdown",
      "source": [
        "1. What is Object-Oriented Programming (OOP)?\n",
        "   - Object-Oriented Programming or OOPs refers to languages that use objects in programming.\n",
        "\n",
        "2. What is a class in OOP?\n",
        "   - A class is a user-defined data type. It consists of data members and member functions, which can be accessed and used by creating an instance of that class. A class is like a blueprint for an object.\n",
        "\n",
        "3. What is an object in OOP?\n",
        "   - It is a basic unit of Object-Oriented Programming and represents the real-life entities. An Object is an instance of a Class.\n",
        "\n",
        "4. What is the difference between abstraction and encapsulation?\n",
        "   -  Abstraction is process of hiding the implementation details and showing only the functionality to the users whereas Encapsulation is a process of binding data and methods together in a single unit, providing controlled access to data.\n",
        "   - In abstraction, problems are solved at the design or interface level whereas in encapsulation, problems are solved at the implementation level.\n",
        "   - Abstraction focuses on \"what\" the object does whereas Encapsulation focuses on \"How\" the object does it.\n",
        "   - The objects that help to perform abstraction are encapsulated whereas the objects that result in encapsulation need not be abstracted.\n",
        "\n",
        "5. What are dunder methods in Python?\n",
        "   -  Python Magic methods are the methods starting and ending with double underscores '__'. They are defined by built-in classes in Python and commonly used for operator overloading.\n",
        "     They are also called Dunder methods, Dunder here means \"Double Under (Underscores)\".\n",
        "\n",
        "6. Explain the concept of inheritance in OOP.\n",
        "   -  Inheritance is one of the core features of object-oriented programming. It’s a programming procedure that allows you to reuse code by referencing the behaviors and data of an object. In other words, a class that inherits from another class shares all the attributes and methods of the referenced class.\n",
        "\n",
        "7. What is polymorphism in OOP?\n",
        "   -  Polymorphism in OOP (Object-Oriented Programming) allows one interface or method to take different forms, enhancing code flexibility and efficiency.\n",
        "\n",
        "8. How is encapsulation achieved in Python?\n",
        "   -  Python achieves encapsulation through public, protected and private attributes.\n",
        "   Data Hiding: The variables (attributes) are kept private or protected, meaning they are not accessible directly from outside the class. Instead, they can only be accessed or modified through the methods.\n",
        "\n",
        "     Access through Methods: Methods act as the interface through which external code interacts with the data stored in the variables. For instance, getters and setters are common methods used to retrieve and update the value of a private variable.\n",
        "   \n",
        "     Control and Security: By encapsulating the variables and only allowing their manipulation via methods, the class can enforce rules on how the variables are accessed or modified, thus maintaining control and security over the data.\n",
        "\n",
        "9. What is a constructor in Python?\n",
        "   -  In Python, a constructor is a special method that is called automatically when an object is created from a class. Its main role is to initialize the object by setting up its attributes or state.\n",
        "\n",
        "10. What are class and static methods in Python?\n",
        "   - The @classmethod decorator is a built-in function decorator that is an expression that gets evaluated after your function is defined. The result of that evaluation shadows your function definition. A class method receives the class as an implicit first argument, just like an instance method receives the instance.\n",
        "\n",
        "     A static method does not receive an implicit first argument. A static method is also a method that is bound to the class and not the object of the class. This method can't access or modify the class state. It is present in a class because it makes sense for the method to be present in class.\n",
        "\n",
        "11. What is method overloading in Python?\n",
        "    - In many programming languages like C++ or Java, you can define multiple methods with the same name but different parameter lists. This concept is called method overloading.\n",
        "\n",
        "     Python does not support method overloading by default. If you define multiple methods with the same name, only the latest definition will be used.\n",
        "\n",
        "12. What is method overriding in OOP?\n",
        "    - Method overriding is a core concept in object-oriented programming (OOP) that allows a subclass to provide a specific implementation of a method that is already defined in its superclass.\n",
        "\n",
        "13. What is a property decorator in Python?\n",
        "   - @property decorator is a built-in decorator in Python which is helpful in defining the properties effortlessly without manually calling the inbuilt function property(). Which is used to return the property attributes of a class from the stated getter, setter and deleter as parameters.\n",
        "\n",
        "14. Why is polymorphism important in OOP?\n",
        "    - Enhancing code flexibility and efficiency:\n",
        "     Polymorphism in OOP (Object-Oriented Programming) allows one interface or method to take different forms, enhancing code flexibility and efficiency. It enables programs to handle various object types seamlessly by using a common interface, leading to streamlined development and easier maintenance.\n",
        "\n",
        "15. What is an abstract class in Python?\n",
        "    -  In Python, an abstract class is a class that cannot be instantiated on its own and is designed to be a blueprint for other classes.\n",
        "\n",
        "16. What are the advantages of OOP?\n",
        "    -  OOP language allows to break the program into the bit-sized problems that can be solved easily (one object at a time).\n",
        "\n",
        "    - The new technology promises greater programmer productivity, better quality of software and lesser maintenance cost.\n",
        "\n",
        "    -  OOP systems can be easily upgraded from small to large systems.\n",
        "      \n",
        "    - It is possible that multiple instances of objects co-exist without any interference.\n",
        "      \n",
        "    - It is very easy to partition the work in a project based on objects.\n",
        "\n",
        "    - It is possible to map the objects in problem domain to those in the program.\n",
        "\n",
        "17. What is the difference between a class variable and an instance variable?\n",
        "    - Instance variable is a variable whose value is instance-specific and now shared among instances whereas Class variable that defines a specific attribute or property for a class.\n",
        "\n",
        "    - Instance usually reserves memory for data that the class needs whereas Class usually maintains a single shared value for all instances of class even if no instance object of the class exists.\n",
        "\n",
        "    - Instance is generally created when an instance of the class is created whereas Class generally created when the program begins to execute.\n",
        "\n",
        "    - Instance normally retains values as long as the object exists whereas Class normally retains values until the program terminates.\n",
        "\n",
        "18. What is multiple inheritance in Python?\n",
        "    - When a class is derived from more than one base class it is called multiple Inheritance. The derived class inherits all the features of the base case.\n",
        "\n",
        "19. Explain the purpose of ‘’__str__’ and ‘__repr__’ ‘ methods in Python.\n",
        "    - In Python, the str() and repr() functions are used to obtain string representations of objects. While they may seem similar at first glance, there are some differences in how they behave. Both of the functions can be helpful in debugging or printing useful information about the object.\n",
        "\n",
        "20. What is the significance of the ‘super()’ function in Python?\n",
        "    - In Python, the super() function is used to refer to the parent class or superclass. It allows you to call methods defined in the superclass from the subclass, enabling you to extend and customize the functionality inherited from the parent class.\n",
        "\n",
        "21. What is the significance of the __del__ method in Python?\n",
        "    -  The __del__ method is a special method in Python that is called when an object is about to be destroyed.\n",
        "    - Freeing up memory resources.\n",
        "    - Preventing accidental use of variables and names.\n",
        "    - Avoiding naming conflicts.\n",
        "\n",
        "22. What is the difference between @staticmethod and @classmethod in Python?\n",
        "    - A class method takes cls as the first parameter while a static method needs no specific parameters.\n",
        "    - A class method can access or modify the class state while a static method can't access or modify it.\n",
        "    - In general, static methods know nothing about the class state. They are utility-type methods that take some parameters and work upon those parameters. On the other hand class methods must have class as a parameter.\n",
        "    - We use @classmethod decorator in python to create a class method and we use @staticmethod decorator to create a static method in python.\n",
        "\n",
        "23. How does polymorphism work in python with inheritance?\n",
        "    -  While inheritance is useful, it can sometimes lead to tight coupling between classes. Consider using composition (has-a relationship) instead of inheritance (is-a relationship) when appropriate.\n",
        "    - Ensure that objects of a superclass can be replaced with objects of its subclasses without affecting the correctness of the program.\n",
        "    - Deep inheritance hierarchies can become difficult to understand and maintain. Try to keep your inheritance tree no more than 2-3 levels deep.\n",
        "    - When overriding methods, ensure that the new implementation doesn’t violate the expected behavior of the base class method.\n",
        "    - Abstract classes are useful for defining a common interface with some default behavior, but overuse can lead to inflexibility.\n",
        "\n",
        "24. What is method chaining in Python OOP?\n",
        "    -  Method chaining is a powerful technique in Python programming that allows us to call multiple methods on an object in a single, continuous line of code.\n",
        "\n",
        "25. What is the purpose of the __call__ method in Python?\n",
        "    - Python has a set of built-in methods and __call__ is one of them. The __call__ method enables Python programmers to write classes where the instances behave like functions and can be called like a function. When this method is defined, calling an object (obj(arg1, arg2)) automatically triggers obj.__call__(arg1, arg2). This makes objects behave like functions, enabling more flexible and reusable code."
      ],
      "metadata": {
        "id": "Cl347LQpbeh8"
      }
    },
    {
      "cell_type": "markdown",
      "source": [
        "# PRACTICALS\n"
      ],
      "metadata": {
        "id": "3dlmnSZLthxL"
      }
    },
    {
      "cell_type": "markdown",
      "source": [],
      "metadata": {
        "id": "Ax-6EQpsgDk9"
      }
    },
    {
      "cell_type": "markdown",
      "source": [
        "1. Create a parent class Animal with a method speak() that prints a generic message. Create a child class Dog\n",
        "that overrides the speak() method to print \"Bark!\"."
      ],
      "metadata": {
        "id": "B_hlqvqmtnSz"
      }
    },
    {
      "cell_type": "code",
      "source": [
        "class Animal:\n",
        "    def __init__(self, name):\n",
        "        self.name = name\n",
        "\n",
        "    def speak(self):\n",
        "        pass\n",
        "\n",
        "class Dog(Animal):\n",
        "    def speak(self):\n",
        "        return f\"{self.name} BARKS!\"\n",
        "\n",
        "dog = Dog(\"LEO\")\n",
        "print(dog.speak())"
      ],
      "metadata": {
        "colab": {
          "base_uri": "https://localhost:8080/"
        },
        "id": "C2AuvPk4tvvM",
        "outputId": "fd6e5e93-2cc6-4ac0-83d9-97785334360d"
      },
      "execution_count": null,
      "outputs": [
        {
          "output_type": "stream",
          "name": "stdout",
          "text": [
            "LEO BARKS!\n"
          ]
        }
      ]
    },
    {
      "cell_type": "markdown",
      "source": [
        "2. Write a program to create an abstract class Shape with a method area(). Derive classes Circle and Rectangle\n",
        "from it and implement the area() method in both."
      ],
      "metadata": {
        "id": "CBwEx4srvxIk"
      }
    },
    {
      "cell_type": "code",
      "source": [
        "from abc import ABC, abstractmethod\n",
        "\n",
        "class Shape(ABC):\n",
        "    @abstractmethod\n",
        "    def area(self):\n",
        "        pass\n",
        "\n",
        "class Circle(Shape):\n",
        "    def __init__(self, radius):\n",
        "        self.radius = radius\n",
        "\n",
        "    def area(self):\n",
        "        return 3.14 * self.radius * self.radius\n",
        "\n",
        "\n",
        "class Rectangle(Shape):\n",
        "    def __init__(self, length, breadth):\n",
        "        self.length = length\n",
        "        self.breadth = breadth\n",
        "\n",
        "    def area(self):\n",
        "        return self.length * self.breadth\n",
        "\n",
        "ci = Circle(16)\n",
        "re = Rectangle(12, 10) # Added breadth value for Rectangle\n",
        "print(f\"Area of the circle: {ci.area()}\")\n",
        "print(f\"Area of the rectangle: {re.area()}\") # Called area as a method"
      ],
      "metadata": {
        "colab": {
          "base_uri": "https://localhost:8080/"
        },
        "id": "7WOJmJGPv3dJ",
        "outputId": "507e0679-ab29-4cdd-c7da-54a457a3365b"
      },
      "execution_count": null,
      "outputs": [
        {
          "output_type": "stream",
          "name": "stdout",
          "text": [
            "Area of the circle: 803.84\n",
            "Area of the rectangle: 120\n"
          ]
        }
      ]
    },
    {
      "cell_type": "markdown",
      "source": [
        "3. Implement a multi-level inheritance scenario where a class Vehicle has an attribute type. Derive a class Car\n",
        "and further derive a class ElectricCar that adds a battery attribute."
      ],
      "metadata": {
        "id": "XocdM_LS0cP6"
      }
    },
    {
      "cell_type": "code",
      "source": [
        "class Vehicle:\n",
        "    def __init__(self, vehicle_type):\n",
        "        self.type = vehicle_type\n",
        "\n",
        "    def display_info(self):\n",
        "        print(f\"Vehicle Type: {self.type}\")\n",
        "\n",
        "class Car(Vehicle):\n",
        "    def __init__(self, vehicle_type, model):\n",
        "        super().__init__(vehicle_type)\n",
        "        self.model = model\n",
        "\n",
        "    def display_info(self):\n",
        "        super().display_info()\n",
        "        print(f\"Car Model: {self.model}\")\n",
        "\n",
        "class ElectricCar(Car):\n",
        "    def __init__(self, vehicle_type, model, battery_capacity):\n",
        "        super().__init__(vehicle_type, model)\n",
        "        self.battery = battery_capacity\n",
        "\n",
        "    def display_info(self):\n",
        "        super().display_info()\n",
        "        print(f\"Battery Capacity: {self.battery} kWh\")\n",
        "\n",
        "\n",
        "my_electric_car = ElectricCar(\"Electric Vehicle\", \"Tesla Model 3\", 75)\n",
        "my_electric_car.display_info()\n",
        "\n",
        "print(\"\\n--- Another example ---\")\n",
        "my_car = Car(\"Sedan\", \"Honda Civic\")\n",
        "my_car.display_info()"
      ],
      "metadata": {
        "colab": {
          "base_uri": "https://localhost:8080/"
        },
        "id": "qRs5lkt60il2",
        "outputId": "a054d92b-b766-4abe-a44f-33cf2be3ef43"
      },
      "execution_count": null,
      "outputs": [
        {
          "output_type": "stream",
          "name": "stdout",
          "text": [
            "Vehicle Type: Electric Vehicle\n",
            "Car Model: Tesla Model 3\n",
            "Battery Capacity: 75 kWh\n",
            "\n",
            "--- Another example ---\n",
            "Vehicle Type: Sedan\n",
            "Car Model: Honda Civic\n"
          ]
        }
      ]
    },
    {
      "cell_type": "markdown",
      "source": [
        "4. Demonstrate polymorphism by creating a base class Bird with a method fly(). Create two derived classes\n",
        "Sparrow and Penguin that override the fly() method."
      ],
      "metadata": {
        "id": "QPxcwgxoCIRd"
      }
    },
    {
      "cell_type": "code",
      "source": [
        "class Bird:\n",
        "    def fly(self):\n",
        "        print(\"Sparrows can Fly.\")\n",
        "\n",
        "class Sparrow(Bird):\n",
        "    def fly(self):\n",
        "        print(\"Sparrows flies high in the sky.\")\n",
        "\n",
        "class Penguin(Bird):\n",
        "    def fly(self):\n",
        "        print(\"Penguins cannot fly, but it can swim gracefully.\")\n",
        "\n",
        "# Demonstrate polymorphism\n",
        "bird = Bird()\n",
        "sparrow = Sparrow()\n",
        "penguin = Penguin()\n",
        "\n",
        "bird.fly()\n",
        "sparrow.fly()\n",
        "penguin.fly()"
      ],
      "metadata": {
        "colab": {
          "base_uri": "https://localhost:8080/"
        },
        "id": "Lg5AtMOWCNi-",
        "outputId": "c8633268-0eab-45ac-ba3d-188080fe66eb"
      },
      "execution_count": null,
      "outputs": [
        {
          "output_type": "stream",
          "name": "stdout",
          "text": [
            "Sparrows can Fly.\n",
            "Sparrows flies high in the sky.\n",
            "Penguins cannot fly, but it can swim gracefully.\n"
          ]
        }
      ]
    },
    {
      "cell_type": "markdown",
      "source": [
        "5. Write a program to demonstrate encapsulation by creating a class Bank Account with private attributes\n",
        "balance and methods to deposit, withdraw, and check balance."
      ],
      "metadata": {
        "id": "Chb26emKCsu_"
      }
    },
    {
      "cell_type": "code",
      "source": [
        "class BankAccount:\n",
        "    def __init__(self, initial_balance=0):\n",
        "        self.__balance = initial_balance\n",
        "\n",
        "    def deposit(self, amount):\n",
        "        if amount > 0:\n",
        "            self.__balance += amount\n",
        "            print(f\"Deposited ${amount}. New balance: ${self.__balance}\")\n",
        "        else:\n",
        "            print(\"Deposit Amount must be Positive.\")\n",
        "\n",
        "    def withdraw(self, amount):\n",
        "        if amount > 0:\n",
        "            if self.__balance >= amount:\n",
        "                self.__balance -= amount\n",
        "                print(f\"Withdrew ${amount}. New balance: ${self.__balance}\")\n",
        "            else:\n",
        "                print(\"Insufficient balance.\")\n",
        "        else:\n",
        "            print(\"Withdrawal Amount must be Positive.\")\n",
        "\n",
        "    def check_balance(self):\n",
        "        print(f\"Current balance: ${self.__balance}\")\n",
        "\n",
        "\n",
        "if __name__ == \"__main__\":\n",
        "    account = BankAccount(1000)\n",
        "    account.check_balance()\n",
        "    account.deposit(500)\n",
        "    account.withdraw(200)\n",
        "    account.check_balance()\n",
        "    account.withdraw(1500)\n",
        "    account.deposit(-100)"
      ],
      "metadata": {
        "colab": {
          "base_uri": "https://localhost:8080/"
        },
        "id": "Rj3obTuADKKn",
        "outputId": "6ac003f4-e000-470d-afc4-ccd0cd3f2144"
      },
      "execution_count": null,
      "outputs": [
        {
          "output_type": "stream",
          "name": "stdout",
          "text": [
            "Current balance: $1000\n",
            "Deposited $500. New balance: $1500\n",
            "Withdrew $200. New balance: $1300\n",
            "Current balance: $1300\n",
            "Insufficient balance.\n",
            "Deposit Amount must be Positive.\n"
          ]
        }
      ]
    },
    {
      "cell_type": "markdown",
      "source": [
        "6. Demonstrate runtime polymorphism using a method play() in a base class Instrument. Derive classes Guitar\n",
        "and Piano that implement their own version of play()."
      ],
      "metadata": {
        "id": "yWvCtFnhDOVY"
      }
    },
    {
      "cell_type": "code",
      "source": [
        "class Instrument:\n",
        "    def play(self):\n",
        "        raise NotImplementedError(\"Subclasses must implement the play() method.\")\n",
        "\n",
        "class Guitar(Instrument):\n",
        "    def play(self):\n",
        "        return \"The Guitar is Strumming a Melody.\"\n",
        "\n",
        "class Piano(Instrument):\n",
        "    def play(self):\n",
        "        return \"The Piano is Playing a Beautiful Harmony.\"\n",
        "\n",
        "def make_instrument_play(instrument):\n",
        "    return instrument.play()\n",
        "\n",
        "guitar_instance = Guitar()\n",
        "piano_instance = Piano()\n",
        "\n",
        "print(make_instrument_play(guitar_instance))\n",
        "print(make_instrument_play(piano_instance))"
      ],
      "metadata": {
        "colab": {
          "base_uri": "https://localhost:8080/"
        },
        "id": "tmgXsyCPEBsZ",
        "outputId": "7f0cba87-bf2c-47b7-9f9f-7423fbcaf32e"
      },
      "execution_count": null,
      "outputs": [
        {
          "output_type": "stream",
          "name": "stdout",
          "text": [
            "The Guitar is Strumming a Melody.\n",
            "The Piano is Playing a Beautiful Harmony.\n"
          ]
        }
      ]
    },
    {
      "cell_type": "markdown",
      "source": [
        "7. Create a class MathOperations with a class method add_numbers() to add two numbers and a static\n",
        "method subtract_numbers() to subtract two numbers."
      ],
      "metadata": {
        "id": "3iZ59rekFGh5"
      }
    },
    {
      "cell_type": "code",
      "source": [
        "class MathOperations:\n",
        "    @classmethod\n",
        "    def add_numbers(cls, num1, num2):\n",
        "        \"\"\"\n",
        "        Adds two numbers using a class method.\n",
        "        \"\"\"\n",
        "        return num1 + num2\n",
        "\n",
        "    @staticmethod\n",
        "    def subtract_numbers(num1, num2):\n",
        "        \"\"\"\n",
        "        Subtracts two numbers using a static method.\n",
        "        \"\"\"\n",
        "        return num1 - num2\n",
        "\n",
        "sum_result = MathOperations.add_numbers(10, 5)\n",
        "print(f\"Sum: {sum_result}\")\n",
        "\n",
        "difference_result = MathOperations.subtract_numbers(10, 5)\n",
        "print(f\"Difference: {difference_result}\")"
      ],
      "metadata": {
        "colab": {
          "base_uri": "https://localhost:8080/"
        },
        "id": "b72RLW_tFMiH",
        "outputId": "40c10896-e8e0-4ff4-c704-63bf3a8c30b8"
      },
      "execution_count": null,
      "outputs": [
        {
          "output_type": "stream",
          "name": "stdout",
          "text": [
            "Sum: 15\n",
            "Difference: 5\n"
          ]
        }
      ]
    },
    {
      "cell_type": "markdown",
      "source": [
        "8.  Implement a class Person with a class method to count the total number of persons created."
      ],
      "metadata": {
        "id": "6c8LXZJhFr_D"
      }
    },
    {
      "cell_type": "code",
      "source": [
        "class Person:\n",
        "    total_persons = 0\n",
        "\n",
        "    def __init__(self, name):\n",
        "        self.name = name\n",
        "        Person.total_persons += 1\n",
        "\n",
        "    @classmethod\n",
        "    def get_total_persons(cls):\n",
        "        \"\"\"\n",
        "        Class method to return the total number of persons created.\n",
        "        \"\"\"\n",
        "        return cls.total_persons\n",
        "\n",
        "person1 = Person(\"ANUSHKA\")\n",
        "person2 = Person(\"PRITOM\")\n",
        "person3 = Person(\"SUSHMITA\")\n",
        "person4 = Person(\"SHUBHRADEEP\")\n",
        "\n",
        "print(f\"Total Number of Persons Created: {Person.get_total_persons()}\")"
      ],
      "metadata": {
        "colab": {
          "base_uri": "https://localhost:8080/"
        },
        "id": "kHED96FZFxqM",
        "outputId": "2469483f-6e03-4efd-a2d8-045c8da09a9e"
      },
      "execution_count": null,
      "outputs": [
        {
          "output_type": "stream",
          "name": "stdout",
          "text": [
            "Total Number of Persons Created: 4\n"
          ]
        }
      ]
    },
    {
      "cell_type": "markdown",
      "source": [
        "9. Write a class Fraction with attributes numerator and denominator. Override the str method to display the\n",
        "fraction as \"numerator/denominator\"."
      ],
      "metadata": {
        "id": "tQ__oNABFzNS"
      }
    },
    {
      "cell_type": "code",
      "source": [
        "class Fraction:\n",
        "    def __init__(self, numerator, denominator):\n",
        "        self.numerator = numerator\n",
        "        self.denominator = denominator\n",
        "\n",
        "    def __str__(self):\n",
        "        return f\"{self.numerator}/{self.denominator}\"\n",
        "\n",
        "my_fraction = Fraction(7, 9)\n",
        "print(my_fraction)"
      ],
      "metadata": {
        "colab": {
          "base_uri": "https://localhost:8080/"
        },
        "id": "ejPvmWKCGr_f",
        "outputId": "7daacc82-6153-48ed-a893-2f671c8a62c8"
      },
      "execution_count": null,
      "outputs": [
        {
          "output_type": "stream",
          "name": "stdout",
          "text": [
            "7/9\n"
          ]
        }
      ]
    },
    {
      "cell_type": "markdown",
      "source": [
        "10.  Demonstrate operator overloading by creating a class Vector and overriding the add method to add two\n",
        "vectors."
      ],
      "metadata": {
        "id": "IC_trpqMIWtL"
      }
    },
    {
      "cell_type": "code",
      "source": [
        "class Vector:\n",
        "    def __init__(self, x, y):\n",
        "        self.x = x\n",
        "        self.y = y\n",
        "\n",
        "    def __add__(self, other):\n",
        "        # Overload the '+' operator for Vector addition\n",
        "        return Vector(self.x + other.x, self.y + other.y)\n",
        "\n",
        "    def __str__(self):\n",
        "        # For easy printing of Vector objects\n",
        "        return f\"Vector({self.x}, {self.y})\"\n",
        "\n",
        "# Create two Vector objects\n",
        "vector1 = Vector(5, 9)\n",
        "vector2 = Vector(7, 8)\n",
        "\n",
        "# Add the two vectors using the overloaded '+' operator\n",
        "result_vector = vector1 + vector2\n",
        "\n",
        "# Print the result\n",
        "print(f\"Vector 1: {vector1}\")\n",
        "print(f\"Vector 2: {vector2}\")\n",
        "print(f\"Sum of Vectors: {result_vector}\")"
      ],
      "metadata": {
        "id": "dWdgTLZaRLpu",
        "colab": {
          "base_uri": "https://localhost:8080/"
        },
        "outputId": "e6db9596-0ef9-45a5-fe90-b448ecb2b004"
      },
      "execution_count": 9,
      "outputs": [
        {
          "output_type": "stream",
          "name": "stdout",
          "text": [
            "Vector 1: Vector(5, 9)\n",
            "Vector 2: Vector(7, 8)\n",
            "Sum of Vectors: Vector(12, 17)\n"
          ]
        }
      ]
    },
    {
      "cell_type": "markdown",
      "source": [
        "11. Create a class Person with attributes name and age. Add a method greet() that prints \"Hello, my name is\n",
        "{name} and I am {age} years old.\""
      ],
      "metadata": {
        "id": "iW3GzV9TSCW4"
      }
    },
    {
      "cell_type": "code",
      "source": [
        "class Person:\n",
        "    def __init__(self, name, age):\n",
        "        self.name = name\n",
        "        self.age = age\n",
        "\n",
        "    def greet(self):\n",
        "        print(f\"Hello, My Name is {self.name} and I am {self.age} years old.\")\n",
        "\n",
        "\n",
        "person1 = Person(\"SHUBHRADEEP\", 30)\n",
        "person1.greet()"
      ],
      "metadata": {
        "id": "cAn18XDWSLFB",
        "colab": {
          "base_uri": "https://localhost:8080/"
        },
        "outputId": "3376847b-b04e-4af8-efd1-5f2497a73a97"
      },
      "execution_count": 10,
      "outputs": [
        {
          "output_type": "stream",
          "name": "stdout",
          "text": [
            "Hello, My Name is SHUBHRADEEP and I am 30 years old.\n"
          ]
        }
      ]
    },
    {
      "cell_type": "markdown",
      "source": [
        "12.  Implement a class Student with attributes name and grades. Create a method average_grade() to compute\n",
        "the average of the grades."
      ],
      "metadata": {
        "id": "rY4mvKmhSNeq"
      }
    },
    {
      "cell_type": "code",
      "source": [
        "class Stu:\n",
        "    def __init__(self, name, grades):\n",
        "        self.name = name\n",
        "        self.grades = grades\n",
        "\n",
        "    def average_grade(self):\n",
        "        if not self.grades:\n",
        "            return 0\n",
        "        return sum(self.grades) / len(self.grades)\n",
        "\n",
        "\n",
        "Can1 = Stu(\"SHUBHRADEEP\", [90, 95, 92, 98])\n",
        "print(f\"{Can1.name}'s Average grade: {Can1.average_grade()}\")"
      ],
      "metadata": {
        "id": "3Yn37VtZTAAg",
        "colab": {
          "base_uri": "https://localhost:8080/"
        },
        "outputId": "d37e2b21-6100-4d98-8a07-1708d2b383f6"
      },
      "execution_count": 18,
      "outputs": [
        {
          "output_type": "stream",
          "name": "stdout",
          "text": [
            "SHUBHRADEEP's Average grade: 93.75\n"
          ]
        }
      ]
    },
    {
      "cell_type": "markdown",
      "source": [
        "13. Create a class Rectangle with methods set_dimensions() to set the dimensions and area() to calculate the\n",
        "area"
      ],
      "metadata": {
        "id": "qkPDPmApTyGt"
      }
    },
    {
      "cell_type": "code",
      "source": [
        "class Rectangle:\n",
        "        def __init__(self):\n",
        "            self.length = 0\n",
        "            self.width = 0\n",
        "\n",
        "        def set_dimensions(self, length, width):\n",
        "            self.length = length\n",
        "            self.width = width\n",
        "\n",
        "        def area(self):\n",
        "            return self.length * self.width\n",
        "\n",
        "my_rectangle = Rectangle()\n",
        "\n",
        "my_rectangle.set_dimensions(37, 17)\n",
        "\n",
        "print(f\"The Area of the Rectangle is: {my_rectangle.area()}\")"
      ],
      "metadata": {
        "id": "KBLUCAnIT0X8",
        "colab": {
          "base_uri": "https://localhost:8080/"
        },
        "outputId": "6541f7fe-0416-49eb-e0c0-1a5b875d08a9"
      },
      "execution_count": 12,
      "outputs": [
        {
          "output_type": "stream",
          "name": "stdout",
          "text": [
            "The Area of the Rectangle is: 629\n"
          ]
        }
      ]
    },
    {
      "cell_type": "markdown",
      "source": [
        "14.  Create a class Employee with a method calculate_salary() that computes the salary based on hours worked and hourly rate. Create a derived class Manager that adds a bonus to the salary."
      ],
      "metadata": {
        "id": "E20HoUBFT2TG"
      }
    },
    {
      "cell_type": "code",
      "source": [
        "class Employee:\n",
        "    def __init__(self, hours_worked, hourly_rate):\n",
        "        self.hours_worked = hours_worked\n",
        "        self.hourly_rate = hourly_rate\n",
        "\n",
        "    def calculate_salary(self):\n",
        "        return self.hours_worked * self.hourly_rate\n",
        "\n",
        "class Manager(Employee):\n",
        "    def __init__(self, hours_worked, hourly_rate, bonus):\n",
        "        super().__init__(hours_worked, hourly_rate)\n",
        "        self.bonus = bonus\n",
        "\n",
        "    def calculate_salary(self):\n",
        "        base_salary = super().calculate_salary()\n",
        "        return base_salary + self.bonus\n",
        "\n",
        "employee1 = Employee(600, 450)\n",
        "print(f\"Employee salary: ${employee1.calculate_salary()}\")\n",
        "\n",
        "manager1 = Manager(700, 800, 700)\n",
        "print(f\"Manager salary: ${manager1.calculate_salary()}\")"
      ],
      "metadata": {
        "id": "7pOSXPQrU2x2",
        "colab": {
          "base_uri": "https://localhost:8080/"
        },
        "outputId": "d052e70b-e3ae-4d2e-bee6-044ccbb6af4a"
      },
      "execution_count": 13,
      "outputs": [
        {
          "output_type": "stream",
          "name": "stdout",
          "text": [
            "Employee salary: $270000\n",
            "Manager salary: $560700\n"
          ]
        }
      ]
    },
    {
      "cell_type": "markdown",
      "source": [
        "# 15. Create a class Product with attributes name, price, and quantity. Implement a method total_price() that calculates the total price of the product."
      ],
      "metadata": {
        "id": "ksdgqfxEU3x8"
      }
    },
    {
      "cell_type": "code",
      "source": [
        "class Product:\n",
        "    def __init__(self, name, price, quantity):\n",
        "        self.name = name\n",
        "        self.price = price\n",
        "        self.quantity = quantity\n",
        "\n",
        "    def total_price(self):\n",
        "        return self.price * self.quantity\n",
        "\n",
        "product1 = Product(\"Laptop\", 1125, 2)\n",
        "\n",
        "print(f\"The total price of {product1.name} is: ${product1.total_price()}\")"
      ],
      "metadata": {
        "id": "4zVL8hxGVfZH",
        "colab": {
          "base_uri": "https://localhost:8080/"
        },
        "outputId": "18e12f63-f061-4744-cdca-406eed844743"
      },
      "execution_count": 20,
      "outputs": [
        {
          "output_type": "stream",
          "name": "stdout",
          "text": [
            "The total price of Laptop is: $2250\n"
          ]
        }
      ]
    },
    {
      "cell_type": "markdown",
      "source": [
        "16. Create a class Animal with an abstract method sound(). Create two derived classes Cow and Sheep that\n",
        "implement the sound() method."
      ],
      "metadata": {
        "id": "AlbKvQAiWDkt"
      }
    },
    {
      "cell_type": "code",
      "source": [
        "from abc import ABC, abstractmethod\n",
        "\n",
        "class Animal(ABC):\n",
        "    @abstractmethod\n",
        "    def sound(self):\n",
        "        pass\n",
        "\n",
        "class Cow(Animal):\n",
        "    def sound(self):\n",
        "        return \"Mooooo!\"\n",
        "\n",
        "class Sheep(Animal):\n",
        "    def sound(self):\n",
        "        return \"Mayhyhyh!\"\n",
        "\n",
        "C = Cow()\n",
        "print(C.sound())\n",
        "S = Sheep()\n",
        "print(S.sound())"
      ],
      "metadata": {
        "id": "B8dkjryiWF45",
        "colab": {
          "base_uri": "https://localhost:8080/"
        },
        "outputId": "0e5ea857-9cb5-4a46-b270-2f0706b8f2ea"
      },
      "execution_count": 19,
      "outputs": [
        {
          "output_type": "stream",
          "name": "stdout",
          "text": [
            "Mooooo!\n",
            "Mayhyhyh!\n"
          ]
        }
      ]
    },
    {
      "cell_type": "markdown",
      "source": [
        "17. Create a class Book with attributes title, author, and year_published. Add a method get_book_info() that returns a formatted string with the book's details."
      ],
      "metadata": {
        "id": "dlZNaCkCWHwt"
      }
    },
    {
      "cell_type": "code",
      "source": [
        "class Book:\n",
        "    def __init__(self, title, author, year_published):\n",
        "        self.title = title\n",
        "        self.author = author\n",
        "        self.year_published = year_published\n",
        "\n",
        "    def get_book_info(self):\n",
        "        return f\"Title: {self.title}, Author: {self.author}, Year Published: {self.year_published}\"\n",
        "\n",
        "    def get_book_info(self):\n",
        "        return f\"Title: {self.title}, Author: {self.author}, Year Published: {self.year_published}\"\n",
        "\n",
        "book1 = Book(\"AMONGST THE BELIEVERS\", \"KOCHERY C SHIBU\", 2024)\n",
        "\n",
        "print(book1.get_book_info())"
      ],
      "metadata": {
        "id": "8vnjJx1ZXWnS",
        "colab": {
          "base_uri": "https://localhost:8080/"
        },
        "outputId": "b53521e4-cf02-41ef-90f8-c20739684ce2"
      },
      "execution_count": 16,
      "outputs": [
        {
          "output_type": "stream",
          "name": "stdout",
          "text": [
            "Title: AMONGST THE BELIEVERS, Author: KOCHERY C SHIBU, Year Published: 2024\n"
          ]
        }
      ]
    },
    {
      "cell_type": "markdown",
      "source": [
        "18. Create a class House with attributes address and price. Create a derived class Mansion that adds an\n",
        "attribute number_of_rooms."
      ],
      "metadata": {
        "id": "zHHm_pBSXXM8"
      }
    },
    {
      "cell_type": "code",
      "source": [
        "class House:\n",
        "    def __init__(self, address, price):\n",
        "        self.address = address\n",
        "        self.price = price\n",
        "\n",
        "    def get_house_info(self):\n",
        "        return f\"Address: {self.address}, Price: ${self.price}\"\n",
        "\n",
        "class Mansion(House):\n",
        "    def __init__(self, address, price, number_of_rooms):\n",
        "        super().__init__(address, price)\n",
        "        self.number_of_rooms = number_of_rooms\n",
        "\n",
        "    def get_mansion_info(self):\n",
        "        return f\"Address: {self.address}, Price: ${self.price}, Rooms: {self.number_of_rooms}\"\n",
        "\n",
        "my_house = House(\"RABINDRA NAGAR\", 250000)\n",
        "\n",
        "print(my_house.get_house_info())\n",
        "\n",
        "my_mansion = Mansion(\"SHUBHS APARTMENT\", 1500000, 10)\n",
        "\n",
        "print(my_mansion.get_mansion_info())"
      ],
      "metadata": {
        "id": "17tmyIafYtuz",
        "colab": {
          "base_uri": "https://localhost:8080/"
        },
        "outputId": "0148c6fe-41eb-45ee-f188-9e80ec5edb55"
      },
      "execution_count": 17,
      "outputs": [
        {
          "output_type": "stream",
          "name": "stdout",
          "text": [
            "Address: RABINDRA NAGAR, Price: $250000\n",
            "Address: SHUBHS APARTMENT, Price: $1500000, Rooms: 10\n"
          ]
        }
      ]
    },
    {
      "cell_type": "markdown",
      "source": [],
      "metadata": {
        "id": "dzxmSchKbdN2"
      }
    }
  ]
}